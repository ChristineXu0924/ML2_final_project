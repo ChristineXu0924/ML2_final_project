{
 "cells": [
  {
   "cell_type": "code",
   "execution_count": 44,
   "id": "207edb83",
   "metadata": {},
   "outputs": [],
   "source": [
    "from dotenv import load_dotenv\n",
    "import os\n",
    "from pathlib import Path\n",
    "import boto3\n",
    "import tempfile\n",
    "import spacy\n",
    "import sys\n",
    "\n",
    "import spacy\n",
    "import boto3\n",
    "from transformers import pipeline, Wav2Vec2Processor, Wav2Vec2ForCTC\n",
    "import random\n",
    "\n",
    "# Ensure src folder is in path - fixed for Jupyter notebook\n",
    "notebook_path = Path.cwd()  # Get current working directory\n",
    "project_root = notebook_path.parent  # Assuming notebook is in app/ and src/ is at project root\n",
    "sys.path.append(str(project_root))\n",
    "import importlib\n",
    "if 'src.s3_utils' in sys.modules:\n",
    "    importlib.reload(sys.modules['src.s3_utils'])\n",
    "\n",
    "from src.s3_utils import list_audio_files, load_ner_model_from_s3, trigger_lambda, fetch_result_json"
   ]
  },
  {
   "cell_type": "code",
   "execution_count": 45,
   "id": "eab5a16e",
   "metadata": {},
   "outputs": [],
   "source": [
    "# Load environment variables\n",
    "env_path = Path(\"../config/secrets.env\")\n",
    "load_dotenv(dotenv_path=env_path)\n",
    "s3 = boto3.client('s3', region_name=\"us-east-1\")"
   ]
  },
  {
   "cell_type": "code",
   "execution_count": 46,
   "id": "308854e6",
   "metadata": {},
   "outputs": [
    {
     "name": "stdout",
     "output_type": "stream",
     "text": [
      "Environment variables as loaded:\n",
      "BUCKET_NAME: 'cloud-engineer-team7'\n",
      "BUCKET_PREFIX_DATA: 'LibriSpeech/'\n",
      "BUCKET_PREFIX_MODEL: 'ner_custom_model/'\n",
      "Default data prefix value: 'LibriSpeech/'\n",
      "Default model prefix value: 'ner_custom_model/'\n"
     ]
    }
   ],
   "source": [
    "# Try this in a new cell\n",
    "print(\"Environment variables as loaded:\")\n",
    "print(f\"BUCKET_NAME: '{os.getenv('BUCKET_NAME')}'\")\n",
    "print(f\"BUCKET_PREFIX_DATA: '{os.getenv('BUCKET_PREFIX_DATA')}'\")\n",
    "print(f\"BUCKET_PREFIX_MODEL: '{os.getenv('BUCKET_PREFIX_MODEL')}'\")\n",
    "print(f\"Default data prefix value: '{os.getenv('BUCKET_PREFIX_DATA', 'default')}'\")\n",
    "print(f\"Default model prefix value: '{os.getenv('BUCKET_PREFIX_MODEL', 'default')}'\")\n",
    "bucket = os.getenv(\"BUCKET_NAME\", \"\").strip()\n",
    "prefix_data = os.getenv(\"BUCKET_PREFIX_DATA\", \"\").strip()\n",
    "prefix_model = os.getenv(\"BUCKET_PREFIX_MODEL\", \"\").strip()"
   ]
  },
  {
   "cell_type": "code",
   "execution_count": 55,
   "id": "7f678bf5",
   "metadata": {},
   "outputs": [],
   "source": [
    "BUCKET = os.getenv(\"BUCKET_NAME\", \"\").strip()\n",
    "PREFIX_DATA = os.getenv(\"BUCKET_PREFIX_DATA\", \"\").strip()\n",
    "PREFIX_MODEL = os.getenv(\"BUCKET_PREFIX_MODEL\", \"\").strip()\n",
    "lambda_func = os.getenv(\"LAMBDA_FUNCTION_NAME\", \"\").strip()"
   ]
  },
  {
   "cell_type": "code",
   "execution_count": 56,
   "id": "6cb4e762",
   "metadata": {},
   "outputs": [
    {
     "data": {
      "text/plain": [
       "('LibriSpeech/',\n",
       " 'ner_custom_model/',\n",
       " 'cloud-engineer-team7',\n",
       " 'transcribe-audio-lambda')"
      ]
     },
     "execution_count": 56,
     "metadata": {},
     "output_type": "execute_result"
    }
   ],
   "source": [
    "PREFIX_DATA, PREFIX_MODEL, BUCKET, lambda_func"
   ]
  },
  {
   "cell_type": "code",
   "execution_count": 18,
   "id": "b738a755",
   "metadata": {},
   "outputs": [
    {
     "data": {
      "text/plain": [
       "['ner_custom_model/config.cfg',\n",
       " 'ner_custom_model/meta.json',\n",
       " 'ner_custom_model/ner/cfg',\n",
       " 'ner_custom_model/ner/model',\n",
       " 'ner_custom_model/ner/moves',\n",
       " 'ner_custom_model/tokenizer',\n",
       " 'ner_custom_model/vocab/key2row',\n",
       " 'ner_custom_model/vocab/lookups.bin',\n",
       " 'ner_custom_model/vocab/strings.json',\n",
       " 'ner_custom_model/vocab/vectors',\n",
       " 'ner_custom_model/vocab/vectors.cfg']"
      ]
     },
     "execution_count": 18,
     "metadata": {},
     "output_type": "execute_result"
    }
   ],
   "source": [
    "# list of files in models bucket\n",
    "def list_files_in_bucket(bucket_name, prefix):\n",
    "    s3 = boto3.client(\"s3\")\n",
    "    response = s3.list_objects_v2(Bucket=bucket_name, Prefix=prefix)\n",
    "    if \"Contents\" in response:\n",
    "        return [obj[\"Key\"] for obj in response[\"Contents\"]]\n",
    "    return []\n",
    "list_files_in_bucket(bucket, prefix_model)"
   ]
  },
  {
   "cell_type": "code",
   "execution_count": 36,
   "id": "693bbd4e",
   "metadata": {},
   "outputs": [
    {
     "data": {
      "text/plain": [
       "['LibriSpeech/test-clean/2961/961/2961-961-0003.flac',\n",
       " 'LibriSpeech/test-clean/1089/134691/1089-134691-0004.flac',\n",
       " 'LibriSpeech/test-clean/1089/134691/1089-134691-0020.flac',\n",
       " 'LibriSpeech/test-clean/2961/961/2961-961-0007.flac',\n",
       " 'LibriSpeech/test-clean/260/123288/260-123288-0007.flac']"
      ]
     },
     "execution_count": 36,
     "metadata": {},
     "output_type": "execute_result"
    }
   ],
   "source": [
    "files = list_audio_files(bucket, prefix_data)\n",
    "import random\n",
    "random.sample(files, 5)"
   ]
  },
  {
   "cell_type": "markdown",
   "id": "4c3c83d0",
   "metadata": {},
   "source": [
    "## Testing loading files from S3"
   ]
  },
  {
   "cell_type": "code",
   "execution_count": 4,
   "id": "e5a69a25",
   "metadata": {},
   "outputs": [],
   "source": [
    "def list_s3_audio(bucket, prefix):\n",
    "    s3 = boto3.client(\"s3\")\n",
    "    response = s3.list_objects_v2(Bucket=bucket, Prefix=prefix)\n",
    "    return [obj[\"Key\"] for obj in response.get(\"Contents\", []) if obj[\"Key\"].endswith((\".flac\", \".wav\"))]\n",
    "\n",
    "def download_from_s3(bucket, s3_key):\n",
    "    s3 = boto3.client(\"s3\")\n",
    "    tmp = tempfile.NamedTemporaryFile(delete=False, suffix=Path(s3_key).suffix)\n",
    "    s3.download_file(bucket, s3_key, tmp.name)\n",
    "    return tmp.name"
   ]
  },
  {
   "cell_type": "code",
   "execution_count": 17,
   "id": "d7e7199f",
   "metadata": {},
   "outputs": [
    {
     "data": {
      "text/plain": [
       "['LibriSpeech/test-clean/1089/134686/1089-134686-0000.flac',\n",
       " 'LibriSpeech/test-clean/1089/134686/1089-134686-0001.flac',\n",
       " 'LibriSpeech/test-clean/1089/134686/1089-134686-0002.flac',\n",
       " 'LibriSpeech/test-clean/1089/134686/1089-134686-0003.flac',\n",
       " 'LibriSpeech/test-clean/1089/134686/1089-134686-0004.flac']"
      ]
     },
     "execution_count": 17,
     "metadata": {},
     "output_type": "execute_result"
    }
   ],
   "source": [
    "list_s3_audio(bucket, prefix_data)[:5]"
   ]
  },
  {
   "cell_type": "markdown",
   "id": "02db4f8b",
   "metadata": {},
   "source": [
    "## Test NER model from S3"
   ]
  },
  {
   "cell_type": "code",
   "execution_count": null,
   "id": "fc1be40e",
   "metadata": {},
   "outputs": [],
   "source": [
    "# Test NER model from S3\n",
    "import boto3\n",
    "import json\n",
    "\n",
    "def trigger_lambda(bucket, key):\n",
    "    lambda_client = boto3.client('lambda')\n",
    "    payload = {\n",
    "        \"bucket\": bucket,\n",
    "        \"key\": key\n",
    "    }\n",
    "    response = lambda_client.invoke(\n",
    "        FunctionName=\"AudioProcessorLambda\",\n",
    "        InvocationType='RequestResponse',\n",
    "        Payload=json.dumps(payload)\n",
    "    )\n",
    "    result = json.load(response['Payload'])\n",
    "    return result"
   ]
  },
  {
   "cell_type": "code",
   "execution_count": 20,
   "id": "3d4f415c",
   "metadata": {},
   "outputs": [],
   "source": [
    "def load_ner_model_from_s3(bucket_name: str, prefix: str):\n",
    "    \"\"\"\n",
    "    Downloads a spaCy NER model folder from S3 and loads it into memory.\n",
    "    \"\"\"\n",
    "    s3 = boto3.client('s3')\n",
    "    temp_dir = tempfile.TemporaryDirectory()\n",
    "    local_model_path = Path(temp_dir.name) / \"ner_model\"\n",
    "\n",
    "    # Recursively download all files in the prefix\n",
    "    paginator = s3.get_paginator('list_objects_v2')\n",
    "    for page in paginator.paginate(Bucket=bucket_name, Prefix=prefix):\n",
    "        for obj in page.get('Contents', []):\n",
    "            key = obj['Key']\n",
    "            print(key)\n",
    "            rel_path = Path(key).relative_to(prefix)\n",
    "            local_file_path = local_model_path / rel_path\n",
    "            local_file_path.parent.mkdir(parents=True, exist_ok=True)\n",
    "            s3.download_file(bucket_name, key, str(local_file_path))\n",
    "\n",
    "    print(f\"Model downloaded to {local_model_path}\")\n",
    "    return spacy.load(str(local_model_path)), temp_dir  # Keep temp_dir alive\n",
    "\n",
    "def test_ner_model(nlp):\n",
    "    text = \"Apple is looking to buy a startup in San Francisco\"\n",
    "    doc = nlp(text)\n",
    "    for ent in doc.ents:\n",
    "        print(f\"{ent.text}: {ent.label_}\")\n"
   ]
  },
  {
   "cell_type": "markdown",
   "id": "c658192c",
   "metadata": {},
   "source": [
    "#### Sample Test"
   ]
  },
  {
   "cell_type": "code",
   "execution_count": 23,
   "id": "48bb3c30",
   "metadata": {},
   "outputs": [
    {
     "name": "stdout",
     "output_type": "stream",
     "text": [
      "ner_custom_model/config.cfg\n",
      "ner_custom_model/meta.json\n",
      "ner_custom_model/ner/cfg\n",
      "ner_custom_model/ner/model\n",
      "ner_custom_model/ner/moves\n",
      "ner_custom_model/tokenizer\n",
      "ner_custom_model/vocab/key2row\n",
      "ner_custom_model/vocab/lookups.bin\n",
      "ner_custom_model/vocab/strings.json\n",
      "ner_custom_model/vocab/vectors\n",
      "ner_custom_model/vocab/vectors.cfg\n",
      "Model downloaded to /var/folders/m1/rwxd3g8d2zl60slvhbm1p89w0000gn/T/tmpn1or3v_f/ner_model\n",
      "Apple: ORG\n",
      "San Francisco: GPE\n"
     ]
    }
   ],
   "source": [
    "bucket = \"cloud-engineer-team7\"\n",
    "prefix = \"ner_custom_model/\"\n",
    "\n",
    "nlp_model, tmp = load_ner_model_from_s3(bucket, prefix)\n",
    "test_ner_model(nlp_model)\n",
    "\n",
    "# Later, cleanup:\n",
    "tmp.cleanup()"
   ]
  },
  {
   "cell_type": "code",
   "execution_count": null,
   "id": "3e3a4636",
   "metadata": {},
   "outputs": [],
   "source": [
    "ner_model, tmp = load_ner_model_from_s3(bucket, prefix)\n"
   ]
  },
  {
   "cell_type": "code",
   "execution_count": 51,
   "id": "5517d09b",
   "metadata": {},
   "outputs": [
    {
     "data": {
      "text/plain": [
       "'LibriSpeech/test-clean/1089/134686/1089-134686-0000.flac'"
      ]
     },
     "execution_count": 51,
     "metadata": {},
     "output_type": "execute_result"
    }
   ],
   "source": [
    "files[0]"
   ]
  },
  {
   "cell_type": "code",
   "execution_count": 59,
   "id": "90e66b91",
   "metadata": {},
   "outputs": [
    {
     "data": {
      "text/plain": [
       "{'status': 'success',\n",
       " 'model_used': 'Whisper',\n",
       " 'transcript': ' Otherwise, Paul should have written, grace from God the Father, and peace from our Lord Jesus Christ.'}"
      ]
     },
     "execution_count": 59,
     "metadata": {},
     "output_type": "execute_result"
    }
   ],
   "source": [
    "lambda_response = trigger_lambda(\n",
    "    bucket=\"cloud-engineer-team7\",\n",
    "    key=\"LibriSpeech/test-clean/2830/3980/2830-3980-0056.flac\",\n",
    "    model=\"Whisper\",\n",
    "    lambda_function_name=lambda_func\n",
    ")\n",
    "lambda_response"
   ]
  },
  {
   "cell_type": "code",
   "execution_count": null,
   "id": "f15f4438",
   "metadata": {},
   "outputs": [],
   "source": []
  }
 ],
 "metadata": {
  "kernelspec": {
   "display_name": "text_final",
   "language": "python",
   "name": "python3"
  },
  "language_info": {
   "codemirror_mode": {
    "name": "ipython",
    "version": 3
   },
   "file_extension": ".py",
   "mimetype": "text/x-python",
   "name": "python",
   "nbconvert_exporter": "python",
   "pygments_lexer": "ipython3",
   "version": "3.11.0"
  }
 },
 "nbformat": 4,
 "nbformat_minor": 5
}
