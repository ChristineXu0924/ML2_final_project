{
 "cells": [
  {
   "cell_type": "code",
   "execution_count": 44,
   "id": "59f2c76b",
   "metadata": {},
   "outputs": [],
   "source": [
    "import os\n",
    "import pandas as pd\n",
    "import numpy as np\n",
    "import librosa\n",
    "import yaml\n",
    "\n",
    "with open(\"../config/project_config.yaml\", \"r\") as f:\n",
    "    config = yaml.safe_load(f)\n",
    "\n",
    "# Access model paths\n",
    "model_large = config[\"models\"][\"summarization\"][\"large\"]\n",
    "model_small = config[\"models\"][\"summarization\"][\"small\"]\n",
    "model_tiny = config[\"models\"][\"summarization\"][\"tiny\"]\n",
    "\n",
    "# Access other config\n",
    "max_length_large = config[\"settings\"][\"max_length_large\"]\n",
    "max_length_small = config[\"settings\"][\"max_length_small\"]\n",
    "min_length_large = config[\"settings\"][\"min_length_large\"]\n",
    "min_length_small = config[\"settings\"][\"min_length_small\"]\n",
    "\n",
    "# Access audio paths\n",
    "data_path = config[\"data\"][\"processed_data_path\"]"
   ]
  },
  {
   "cell_type": "code",
   "execution_count": 50,
   "id": "3d815494",
   "metadata": {},
   "outputs": [
    {
     "data": {
      "text/html": [
       "<div>\n",
       "<style scoped>\n",
       "    .dataframe tbody tr th:only-of-type {\n",
       "        vertical-align: middle;\n",
       "    }\n",
       "\n",
       "    .dataframe tbody tr th {\n",
       "        vertical-align: top;\n",
       "    }\n",
       "\n",
       "    .dataframe thead th {\n",
       "        text-align: right;\n",
       "    }\n",
       "</style>\n",
       "<table border=\"1\" class=\"dataframe\">\n",
       "  <thead>\n",
       "    <tr style=\"text-align: right;\">\n",
       "      <th></th>\n",
       "      <th>speaker_id</th>\n",
       "      <th>chapter_id</th>\n",
       "      <th>sentence_id</th>\n",
       "      <th>file_path</th>\n",
       "      <th>transcript</th>\n",
       "    </tr>\n",
       "  </thead>\n",
       "  <tbody>\n",
       "    <tr>\n",
       "      <th>0</th>\n",
       "      <td>1069</td>\n",
       "      <td>133709</td>\n",
       "      <td>0</td>\n",
       "      <td>/Users/christinexu/Desktop/MLDS/spring2025/clo...</td>\n",
       "      <td>had laid before her a pair of alternatives now...</td>\n",
       "    </tr>\n",
       "    <tr>\n",
       "      <th>1</th>\n",
       "      <td>1069</td>\n",
       "      <td>133709</td>\n",
       "      <td>41</td>\n",
       "      <td>/Users/christinexu/Desktop/MLDS/spring2025/clo...</td>\n",
       "      <td>vivid light of a judgment day the girl moreove...</td>\n",
       "    </tr>\n",
       "    <tr>\n",
       "      <th>2</th>\n",
       "      <td>1069</td>\n",
       "      <td>133709</td>\n",
       "      <td>16</td>\n",
       "      <td>/Users/christinexu/Desktop/MLDS/spring2025/clo...</td>\n",
       "      <td>asked isabel abruptly why as a kind of complim...</td>\n",
       "    </tr>\n",
       "    <tr>\n",
       "      <th>3</th>\n",
       "      <td>1069</td>\n",
       "      <td>133709</td>\n",
       "      <td>36</td>\n",
       "      <td>/Users/christinexu/Desktop/MLDS/spring2025/clo...</td>\n",
       "      <td>grown used to feeling rich the consciousness i...</td>\n",
       "    </tr>\n",
       "    <tr>\n",
       "      <th>4</th>\n",
       "      <td>1069</td>\n",
       "      <td>133709</td>\n",
       "      <td>20</td>\n",
       "      <td>/Users/christinexu/Desktop/MLDS/spring2025/clo...</td>\n",
       "      <td>henrietta doesnt oh hang henrietta said ralph ...</td>\n",
       "    </tr>\n",
       "  </tbody>\n",
       "</table>\n",
       "</div>"
      ],
      "text/plain": [
       "   speaker_id  chapter_id  sentence_id  \\\n",
       "0        1069      133709            0   \n",
       "1        1069      133709           41   \n",
       "2        1069      133709           16   \n",
       "3        1069      133709           36   \n",
       "4        1069      133709           20   \n",
       "\n",
       "                                           file_path  \\\n",
       "0  /Users/christinexu/Desktop/MLDS/spring2025/clo...   \n",
       "1  /Users/christinexu/Desktop/MLDS/spring2025/clo...   \n",
       "2  /Users/christinexu/Desktop/MLDS/spring2025/clo...   \n",
       "3  /Users/christinexu/Desktop/MLDS/spring2025/clo...   \n",
       "4  /Users/christinexu/Desktop/MLDS/spring2025/clo...   \n",
       "\n",
       "                                          transcript  \n",
       "0  had laid before her a pair of alternatives now...  \n",
       "1  vivid light of a judgment day the girl moreove...  \n",
       "2  asked isabel abruptly why as a kind of complim...  \n",
       "3  grown used to feeling rich the consciousness i...  \n",
       "4  henrietta doesnt oh hang henrietta said ralph ...  "
      ]
     },
     "execution_count": 50,
     "metadata": {},
     "output_type": "execute_result"
    }
   ],
   "source": [
    "# Get datapath from configuration\n",
    "\n",
    "df = pd.read_csv(data_path)[['speaker_id', 'chapter_id', 'sentence_id', 'file_path', 'wav2vec_transcript_clean']].rename(\n",
    "    columns={\n",
    "        'wav2vec_transcript_clean': 'transcript'\n",
    "    })\n",
    "df.head()"
   ]
  },
  {
   "cell_type": "code",
   "execution_count": 51,
   "id": "6bebbd72",
   "metadata": {},
   "outputs": [],
   "source": [
    "# Merge sentences in the sequence of sentence_id based on speaker_id and chapter_id\n",
    "def merge_transcripts_by_chapter(df):\n",
    "    \"\"\"\n",
    "    Merge transcripts from the same speaker and chapter, ordered by sentence_id.\n",
    "    \n",
    "    Args:\n",
    "        df: DataFrame with speaker_id, chapter_id, sentence_id, and transcript columns\n",
    "        \n",
    "    Returns:\n",
    "        DataFrame with merged transcripts by chapter\n",
    "    \"\"\"\n",
    "    # Make a copy to avoid modifying the original\n",
    "    merged_df = df.copy()\n",
    "    \n",
    "    # Ensure sentence_id is numeric for proper sorting\n",
    "    merged_df['sentence_id'] = merged_df['sentence_id'].astype(int)\n",
    "    \n",
    "    # Sort by speaker_id, chapter_id, and sentence_id\n",
    "    merged_df = merged_df.sort_values(['speaker_id', 'chapter_id', 'sentence_id'])\n",
    "    \n",
    "    # Group by speaker_id and chapter_id, and aggregate\n",
    "    chapter_df = merged_df.groupby(['speaker_id', 'chapter_id']).agg({\n",
    "        'transcript': lambda x: ' '.join(x),\n",
    "        'sentence_id': 'count',  # Count sentences in each chapter\n",
    "        'file_path': lambda x: list(x)  # Keep track of original files\n",
    "    }).reset_index()\n",
    "    \n",
    "    # Rename columns for clarity\n",
    "    chapter_df = chapter_df.rename(columns={\n",
    "        'sentence_id': 'sentence_count',\n",
    "        'transcript': 'chapter_transcript',\n",
    "        'file_path': 'source_files'\n",
    "    })\n",
    "    \n",
    "    return chapter_df"
   ]
  },
  {
   "cell_type": "code",
   "execution_count": 52,
   "id": "e8d3bb38",
   "metadata": {},
   "outputs": [
    {
     "name": "stdout",
     "output_type": "stream",
     "text": [
      "Total chapters: 585\n"
     ]
    },
    {
     "data": {
      "text/html": [
       "<div>\n",
       "<style scoped>\n",
       "    .dataframe tbody tr th:only-of-type {\n",
       "        vertical-align: middle;\n",
       "    }\n",
       "\n",
       "    .dataframe tbody tr th {\n",
       "        vertical-align: top;\n",
       "    }\n",
       "\n",
       "    .dataframe thead th {\n",
       "        text-align: right;\n",
       "    }\n",
       "</style>\n",
       "<table border=\"1\" class=\"dataframe\">\n",
       "  <thead>\n",
       "    <tr style=\"text-align: right;\">\n",
       "      <th></th>\n",
       "      <th>speaker_id</th>\n",
       "      <th>chapter_id</th>\n",
       "      <th>chapter_transcript</th>\n",
       "      <th>sentence_count</th>\n",
       "      <th>source_files</th>\n",
       "    </tr>\n",
       "  </thead>\n",
       "  <tbody>\n",
       "    <tr>\n",
       "      <th>0</th>\n",
       "      <td>19</td>\n",
       "      <td>198</td>\n",
       "      <td>northanger abbey this little work was finished...</td>\n",
       "      <td>38</td>\n",
       "      <td>[/Users/christinexu/Desktop/MLDS/spring2025/cl...</td>\n",
       "    </tr>\n",
       "    <tr>\n",
       "      <th>1</th>\n",
       "      <td>19</td>\n",
       "      <td>227</td>\n",
       "      <td>chapter thirty catherines disposition was not ...</td>\n",
       "      <td>73</td>\n",
       "      <td>[/Users/christinexu/Desktop/MLDS/spring2025/cl...</td>\n",
       "    </tr>\n",
       "    <tr>\n",
       "      <th>2</th>\n",
       "      <td>26</td>\n",
       "      <td>495</td>\n",
       "      <td>in sixteen sixty five written by a citizen who...</td>\n",
       "      <td>91</td>\n",
       "      <td>[/Users/christinexu/Desktop/MLDS/spring2025/cl...</td>\n",
       "    </tr>\n",
       "    <tr>\n",
       "      <th>3</th>\n",
       "      <td>26</td>\n",
       "      <td>496</td>\n",
       "      <td>it was now mid july and the plague which had c...</td>\n",
       "      <td>27</td>\n",
       "      <td>[/Users/christinexu/Desktop/MLDS/spring2025/cl...</td>\n",
       "    </tr>\n",
       "    <tr>\n",
       "      <th>4</th>\n",
       "      <td>27</td>\n",
       "      <td>123349</td>\n",
       "      <td>some of the scottish emigrants heated with rep...</td>\n",
       "      <td>59</td>\n",
       "      <td>[/Users/christinexu/Desktop/MLDS/spring2025/cl...</td>\n",
       "    </tr>\n",
       "  </tbody>\n",
       "</table>\n",
       "</div>"
      ],
      "text/plain": [
       "   speaker_id  chapter_id                                 chapter_transcript  \\\n",
       "0          19         198  northanger abbey this little work was finished...   \n",
       "1          19         227  chapter thirty catherines disposition was not ...   \n",
       "2          26         495  in sixteen sixty five written by a citizen who...   \n",
       "3          26         496  it was now mid july and the plague which had c...   \n",
       "4          27      123349  some of the scottish emigrants heated with rep...   \n",
       "\n",
       "   sentence_count                                       source_files  \n",
       "0              38  [/Users/christinexu/Desktop/MLDS/spring2025/cl...  \n",
       "1              73  [/Users/christinexu/Desktop/MLDS/spring2025/cl...  \n",
       "2              91  [/Users/christinexu/Desktop/MLDS/spring2025/cl...  \n",
       "3              27  [/Users/christinexu/Desktop/MLDS/spring2025/cl...  \n",
       "4              59  [/Users/christinexu/Desktop/MLDS/spring2025/cl...  "
      ]
     },
     "execution_count": 52,
     "metadata": {},
     "output_type": "execute_result"
    }
   ],
   "source": [
    "# Apply the function to your dataframe\n",
    "chapter_transcripts = merge_transcripts_by_chapter(df)\n",
    "\n",
    "# Display the first few merged chapters\n",
    "print(f\"Total chapters: {len(chapter_transcripts)}\")\n",
    "chapter_transcripts.head()"
   ]
  },
  {
   "cell_type": "markdown",
   "id": "da2d1fcd",
   "metadata": {},
   "source": [
    "### Define long audiofile"
   ]
  },
  {
   "cell_type": "code",
   "execution_count": null,
   "id": "1edc7ec2",
   "metadata": {},
   "outputs": [
    {
     "name": "stderr",
     "output_type": "stream",
     "text": [
      "/var/folders/m1/rwxd3g8d2zl60slvhbm1p89w0000gn/T/ipykernel_13351/2635080423.py:4: FutureWarning: get_duration() keyword argument 'filename' has been renamed to 'path' in version 0.10.0.\n",
      "\tThis alias will be removed in version 1.0.\n",
      "  duration = librosa.get_duration(filename=file_path)\n"
     ]
    },
    {
     "data": {
      "text/html": [
       "<div>\n",
       "<style scoped>\n",
       "    .dataframe tbody tr th:only-of-type {\n",
       "        vertical-align: middle;\n",
       "    }\n",
       "\n",
       "    .dataframe tbody tr th {\n",
       "        vertical-align: top;\n",
       "    }\n",
       "\n",
       "    .dataframe thead th {\n",
       "        text-align: right;\n",
       "    }\n",
       "</style>\n",
       "<table border=\"1\" class=\"dataframe\">\n",
       "  <thead>\n",
       "    <tr style=\"text-align: right;\">\n",
       "      <th></th>\n",
       "      <th>file_path</th>\n",
       "      <th>duration_sec</th>\n",
       "      <th>is_long</th>\n",
       "    </tr>\n",
       "  </thead>\n",
       "  <tbody>\n",
       "    <tr>\n",
       "      <th>0</th>\n",
       "      <td>/Users/christinexu/Desktop/MLDS/spring2025/clo...</td>\n",
       "      <td>15.060</td>\n",
       "      <td>True</td>\n",
       "    </tr>\n",
       "    <tr>\n",
       "      <th>1</th>\n",
       "      <td>/Users/christinexu/Desktop/MLDS/spring2025/clo...</td>\n",
       "      <td>8.925</td>\n",
       "      <td>False</td>\n",
       "    </tr>\n",
       "    <tr>\n",
       "      <th>2</th>\n",
       "      <td>/Users/christinexu/Desktop/MLDS/spring2025/clo...</td>\n",
       "      <td>16.405</td>\n",
       "      <td>True</td>\n",
       "    </tr>\n",
       "    <tr>\n",
       "      <th>3</th>\n",
       "      <td>/Users/christinexu/Desktop/MLDS/spring2025/clo...</td>\n",
       "      <td>14.165</td>\n",
       "      <td>True</td>\n",
       "    </tr>\n",
       "    <tr>\n",
       "      <th>4</th>\n",
       "      <td>/Users/christinexu/Desktop/MLDS/spring2025/clo...</td>\n",
       "      <td>15.060</td>\n",
       "      <td>True</td>\n",
       "    </tr>\n",
       "  </tbody>\n",
       "</table>\n",
       "</div>"
      ],
      "text/plain": [
       "                                           file_path  duration_sec  is_long\n",
       "0  /Users/christinexu/Desktop/MLDS/spring2025/clo...        15.060     True\n",
       "1  /Users/christinexu/Desktop/MLDS/spring2025/clo...         8.925    False\n",
       "2  /Users/christinexu/Desktop/MLDS/spring2025/clo...        16.405     True\n",
       "3  /Users/christinexu/Desktop/MLDS/spring2025/clo...        14.165     True\n",
       "4  /Users/christinexu/Desktop/MLDS/spring2025/clo...        15.060     True"
      ]
     },
     "execution_count": 17,
     "metadata": {},
     "output_type": "execute_result"
    }
   ],
   "source": [
    "# Get the duration of each audio file\n",
    "def get_duration(file_path):\n",
    "    try:\n",
    "        duration = librosa.get_duration(filename=file_path)\n",
    "        return duration\n",
    "    except:\n",
    "        return None\n",
    "\n",
    "# Apply to your DataFrame\n",
    "df[\"duration_sec\"] = df[\"file_path\"].apply(get_duration)"
   ]
  },
  {
   "cell_type": "code",
   "execution_count": 23,
   "id": "28ed6f35",
   "metadata": {},
   "outputs": [
    {
     "name": "stdout",
     "output_type": "stream",
     "text": [
      "75th percentile duration threshold: 15.16 seconds\n"
     ]
    },
    {
     "data": {
      "text/html": [
       "<div>\n",
       "<style scoped>\n",
       "    .dataframe tbody tr th:only-of-type {\n",
       "        vertical-align: middle;\n",
       "    }\n",
       "\n",
       "    .dataframe tbody tr th {\n",
       "        vertical-align: top;\n",
       "    }\n",
       "\n",
       "    .dataframe thead th {\n",
       "        text-align: right;\n",
       "    }\n",
       "</style>\n",
       "<table border=\"1\" class=\"dataframe\">\n",
       "  <thead>\n",
       "    <tr style=\"text-align: right;\">\n",
       "      <th></th>\n",
       "      <th>file_path</th>\n",
       "      <th>duration_sec</th>\n",
       "      <th>is_long</th>\n",
       "    </tr>\n",
       "  </thead>\n",
       "  <tbody>\n",
       "    <tr>\n",
       "      <th>0</th>\n",
       "      <td>/Users/christinexu/Desktop/MLDS/spring2025/clo...</td>\n",
       "      <td>15.060</td>\n",
       "      <td>False</td>\n",
       "    </tr>\n",
       "    <tr>\n",
       "      <th>1</th>\n",
       "      <td>/Users/christinexu/Desktop/MLDS/spring2025/clo...</td>\n",
       "      <td>8.925</td>\n",
       "      <td>False</td>\n",
       "    </tr>\n",
       "    <tr>\n",
       "      <th>2</th>\n",
       "      <td>/Users/christinexu/Desktop/MLDS/spring2025/clo...</td>\n",
       "      <td>16.405</td>\n",
       "      <td>True</td>\n",
       "    </tr>\n",
       "    <tr>\n",
       "      <th>3</th>\n",
       "      <td>/Users/christinexu/Desktop/MLDS/spring2025/clo...</td>\n",
       "      <td>14.165</td>\n",
       "      <td>False</td>\n",
       "    </tr>\n",
       "    <tr>\n",
       "      <th>4</th>\n",
       "      <td>/Users/christinexu/Desktop/MLDS/spring2025/clo...</td>\n",
       "      <td>15.060</td>\n",
       "      <td>False</td>\n",
       "    </tr>\n",
       "  </tbody>\n",
       "</table>\n",
       "</div>"
      ],
      "text/plain": [
       "                                           file_path  duration_sec  is_long\n",
       "0  /Users/christinexu/Desktop/MLDS/spring2025/clo...        15.060    False\n",
       "1  /Users/christinexu/Desktop/MLDS/spring2025/clo...         8.925    False\n",
       "2  /Users/christinexu/Desktop/MLDS/spring2025/clo...        16.405     True\n",
       "3  /Users/christinexu/Desktop/MLDS/spring2025/clo...        14.165    False\n",
       "4  /Users/christinexu/Desktop/MLDS/spring2025/clo...        15.060    False"
      ]
     },
     "execution_count": 23,
     "metadata": {},
     "output_type": "execute_result"
    }
   ],
   "source": [
    "# Define threshold at the 75th percentile\n",
    "q75_duration = df[\"duration_sec\"].quantile(0.75)\n",
    "\n",
    "# Flag long audio files as those above the 75th percentile\n",
    "df[\"is_long\"] = df[\"duration_sec\"] > q75_duration\n",
    "\n",
    "# Optional: Print threshold\n",
    "print(f\"75th percentile duration threshold: {q75_duration:.2f} seconds\")\n",
    "\n",
    "# Preview result\n",
    "df[[\"file_path\", \"duration_sec\", \"is_long\"]].head()"
   ]
  },
  {
   "cell_type": "code",
   "execution_count": 27,
   "id": "df8d77ac",
   "metadata": {},
   "outputs": [
    {
     "name": "stdout",
     "output_type": "stream",
     "text": [
      "75th percentile word count threshold: 42 words\n"
     ]
    },
    {
     "data": {
      "text/html": [
       "<div>\n",
       "<style scoped>\n",
       "    .dataframe tbody tr th:only-of-type {\n",
       "        vertical-align: middle;\n",
       "    }\n",
       "\n",
       "    .dataframe tbody tr th {\n",
       "        vertical-align: top;\n",
       "    }\n",
       "\n",
       "    .dataframe thead th {\n",
       "        text-align: right;\n",
       "    }\n",
       "</style>\n",
       "<table border=\"1\" class=\"dataframe\">\n",
       "  <thead>\n",
       "    <tr style=\"text-align: right;\">\n",
       "      <th></th>\n",
       "      <th>file_path</th>\n",
       "      <th>word_count</th>\n",
       "      <th>is_long</th>\n",
       "    </tr>\n",
       "  </thead>\n",
       "  <tbody>\n",
       "    <tr>\n",
       "      <th>0</th>\n",
       "      <td>/Users/christinexu/Desktop/MLDS/spring2025/clo...</td>\n",
       "      <td>42</td>\n",
       "      <td>False</td>\n",
       "    </tr>\n",
       "    <tr>\n",
       "      <th>1</th>\n",
       "      <td>/Users/christinexu/Desktop/MLDS/spring2025/clo...</td>\n",
       "      <td>25</td>\n",
       "      <td>False</td>\n",
       "    </tr>\n",
       "    <tr>\n",
       "      <th>2</th>\n",
       "      <td>/Users/christinexu/Desktop/MLDS/spring2025/clo...</td>\n",
       "      <td>32</td>\n",
       "      <td>False</td>\n",
       "    </tr>\n",
       "    <tr>\n",
       "      <th>3</th>\n",
       "      <td>/Users/christinexu/Desktop/MLDS/spring2025/clo...</td>\n",
       "      <td>36</td>\n",
       "      <td>False</td>\n",
       "    </tr>\n",
       "    <tr>\n",
       "      <th>4</th>\n",
       "      <td>/Users/christinexu/Desktop/MLDS/spring2025/clo...</td>\n",
       "      <td>31</td>\n",
       "      <td>False</td>\n",
       "    </tr>\n",
       "  </tbody>\n",
       "</table>\n",
       "</div>"
      ],
      "text/plain": [
       "                                           file_path  word_count  is_long\n",
       "0  /Users/christinexu/Desktop/MLDS/spring2025/clo...          42    False\n",
       "1  /Users/christinexu/Desktop/MLDS/spring2025/clo...          25    False\n",
       "2  /Users/christinexu/Desktop/MLDS/spring2025/clo...          32    False\n",
       "3  /Users/christinexu/Desktop/MLDS/spring2025/clo...          36    False\n",
       "4  /Users/christinexu/Desktop/MLDS/spring2025/clo...          31    False"
      ]
     },
     "execution_count": 27,
     "metadata": {},
     "output_type": "execute_result"
    }
   ],
   "source": [
    "df[\"word_count\"] = df[\"whisper_transcript\"].apply(lambda x: len(x.split()))\n",
    "q75_words = df[\"word_count\"].quantile(0.75)\n",
    "df[\"is_long\"] = df[\"word_count\"] > q75_words\n",
    "print(f\"75th percentile word count threshold: {q75_words:.0f} words\")\n",
    "df[[\"file_path\", \"word_count\", \"is_long\"]].head()"
   ]
  },
  {
   "cell_type": "code",
   "execution_count": 28,
   "id": "6baf2f06",
   "metadata": {},
   "outputs": [
    {
     "data": {
      "text/plain": [
       "is_long\n",
       "False    21502\n",
       "True      7037\n",
       "Name: count, dtype: int64"
      ]
     },
     "execution_count": 28,
     "metadata": {},
     "output_type": "execute_result"
    }
   ],
   "source": [
    "df.is_long.value_counts()"
   ]
  },
  {
   "cell_type": "markdown",
   "id": "4468efbf",
   "metadata": {},
   "source": [
    "## Perform summarization task"
   ]
  },
  {
   "cell_type": "code",
   "execution_count": 20,
   "id": "1d515076",
   "metadata": {},
   "outputs": [
    {
     "name": "stderr",
     "output_type": "stream",
     "text": [
      "/Users/christinexu/miniforge3/envs/text_final/lib/python3.11/site-packages/tqdm/auto.py:21: TqdmWarning: IProgress not found. Please update jupyter and ipywidgets. See https://ipywidgets.readthedocs.io/en/stable/user_install.html\n",
      "  from .autonotebook import tqdm as notebook_tqdm\n",
      "Device set to use mps:0\n",
      "Some weights of PegasusForConditionalGeneration were not initialized from the model checkpoint at google/pegasus-xsum and are newly initialized: ['model.decoder.embed_positions.weight', 'model.encoder.embed_positions.weight']\n",
      "You should probably TRAIN this model on a down-stream task to be able to use it for predictions and inference.\n",
      "Device set to use mps:0\n"
     ]
    }
   ],
   "source": [
    "from transformers import pipeline\n",
    "\n",
    "# Long and short summarizer (same model, different max/min lengths)\n",
    "bart_summarizer = pipeline(\"summarization\", model=\"facebook/bart-large-cnn\")\n",
    "\n",
    "# Tiny summarizer (pegasus-xsum is optimized for one-sentence summaries)\n",
    "pegasus_summarizer = pipeline(\"summarization\", model=\"google/pegasus-xsum\")\n"
   ]
  },
  {
   "cell_type": "code",
   "execution_count": 21,
   "id": "5e4318e7",
   "metadata": {},
   "outputs": [],
   "source": [
    "#  Define Summary Functions\n",
    "def generate_bart_summary(text, min_len=60, max_len=300):\n",
    "    try:\n",
    "        return bart_summarizer(text, min_length=min_len, max_length=max_len, do_sample=False)[0][\"summary_text\"]\n",
    "    except Exception as e:\n",
    "        return f\"[ERROR: {e}]\"\n",
    "\n",
    "def generate_pegasus_summary(text):\n",
    "    try:\n",
    "        return pegasus_summarizer(text)[0][\"summary_text\"]\n",
    "    except Exception as e:\n",
    "        return f\"[ERROR: {e}]\"\n"
   ]
  },
  {
   "cell_type": "code",
   "execution_count": 57,
   "id": "dc650189",
   "metadata": {},
   "outputs": [
    {
     "name": "stdout",
     "output_type": "stream",
     "text": [
      "Northanger abbey by catherine morland was written in the year eighteen o three and intended for immediate publication it was disposed of to a bookseller it was even advertised neither the author nor the public have any other concern than as some observation is necessary upon those parts of the work which thirteen years have made comparatively obsolete. The author never could learn or understand anything before she was taught and sometimes not even then for she was often inattentive and occasionally stupid her mother was three months in teaching her only to repeat the beggars petition and after all her next sister could say it better than she did.\n"
     ]
    }
   ],
   "source": [
    "test_sum = chapter_transcripts['chapter_transcript'].iloc[0]\n",
    "# Generate summaries for long audio files\n",
    "print(generate_bart_summary(test_sum, min_len=100, max_len=300))"
   ]
  },
  {
   "cell_type": "code",
   "execution_count": 56,
   "id": "ac56136b",
   "metadata": {},
   "outputs": [
    {
     "data": {
      "text/plain": [
       "'northanger abbey this little work was finished in the year eighteen o three and intended for immediate publication it was disposed of to a bookseller it was even advertised neither the author nor the public have any other concern than as some observation is necessary upon those parts of the work which thirteen years have made comparatively obsolete the public are entreated to bear in mind that thirteen years have passed since it was finished many more since it was begun and that during that period places manners books and opinions have undergone considerable changes chapter one no one who had ever seen catherine morland in her infancy would have supposed her born to be an heroine her situation in life the character of her father and mother her own person and disposition were all equally against her her father was a clergyman without being neglected or poor and a very respectable man her mother was a woman of useful plain sense with a good temper and what is more remarkable with a good constitution she had three sons before catherine was born where there are heads and arms and legs enough for the number but the morlands had little other right to the word for they were in general very plain and catherine for many years of her life as plain as any she had a thin awkward figure dark lank hair and strong features so much for her person and not less unpropitious for heroism seemed her mind she was fond of all boys plays and greatly preferred cricket not merely to dolls but to the more heroic enjoyments of infancy nursing a dormouse feeding a canary bird or watering a rose bush indeed she had no taste for a garden and if she gathered flowers at all it was chiefly for the pleasure of mischief at least so it was conjectured from her always preferring those which she was forbidden to take such were her propensities her abilities were quite as extraordinary she never could learn or understand anything before she was taught and sometimes not even then for she was often inattentive and occasionally stupid her mother was three months in teaching her only to repeat the beggars petition and after all her next sister sally could say it better than she did not that catherine was always stupid by no means she learnt the fable of the hare and many friends as quickly as any girl in england her mother wished her to learn music and catherine was sure she should like it for she was very fond of tinkling the keys of the old forlorn spinnet so at eight years old she began she learnt a year and could not bear it and missus morland who did not insist on her daughters being accomplished in spite of incapacity or distaste allowed her to leave off french by her mother her proficiency in either was not remarkable and she shirked her lessons in both whenever she could what a strange unaccountable character for with all these symptoms of proflagacy at ten years old hated confinement and cleanliness and loved nothing so well in the world as rolling down the green slope at the back of the house such was catherine morland at ten at fifteen appearances were mending she began to curl her hair and long for balls her complexion improved her features were softened by plumpness and colour her eyes gained more animation and her figure more consequence her love of dirt gave way to an inclination for finery and she grew clean as she grew smart she had now the pleasure of sometimes hearing her father and mother remark on her personal improvement catherine grows quite a good looking girl she is almost pretty to day were words which caught her ears now and then and how welcome were the sounds to look almost pretty than a beauty from her cradle can ever receive missus morland was a very good woman and wished to see her children everything they ought to be but her time was so much occupied in lying in and teaching the little ones that her elder daughters were inevitably left to shift for themselves and it was not very wonderful that catherine who had by nature nothing heroic about her should prefer cricket baseball riding on horseback and running about the country at the age of fourteen to books or at least books of information for provided that nothing like useful knowledge could be gained from them provided they were all story and no reflection she had never any objection to books at all but from fifteen to seventeen she was in training for a heroine she read all such works as heroines must read to supply their memories with those quotations which are so serviceable many a flower is born to blush unseen and waste its fragrance on the desert air from thompson that it is a delightful task to teach the young idea how to shoot and from shakespeare she gained a great store of information among the rest that trifles light as air are to the jealous confirmation strong as proofs of holy writ that the poor beetle which we tread upon in corporal sufferance feels a pang as great as when a giant dies and that a young woman in love always looks like patience on a monument smiling at grief so far her improvement was sufficient and in many other points she came on exceedingly well for though she could not write sonnets she brought herself to read them and though there seemed no chance of her throwing a whole party into raptures by a prelude on the pianoforte of her own composition she could listen to other peoples performance with very little fatigue her greatest deficiency was in the pencil she had no notion of drawing not enough even to attempt a sketch of her lovers profile that she might be detected in the design there she fell miserably short of the true heroic height at present she did not know her own poverty for she had no lover to portray she had reached the age of seventeen without having seen one amiable youth who could call forth her sensibility without having inspired one real passion and without having excited even any admiration but what was very moderate and very transient this was strange indeed but strange things may be generally accounted for if their cause be fairly searched out there was not one lord in the neighbourhood no not even a baronet there was not one family among their acquaintance who had reared and supported a boy accidentally found at their door not one young man whose origin was unknown her father had no ward and the squire of the parish no children but when a young lady is to be a heroine the perverseness of forty surrounding families cannot prevent her something must and will happen to throw a hero in her way mister allen who owned the chief of the property about fullerton the village in wiltshire where the morlands lived was ordered to bath for the benefit of a gouty constitution and his lady a good humoured woman fond of miss morland and probably aware that if she must seek them abroad invited her to go with them'"
      ]
     },
     "execution_count": 56,
     "metadata": {},
     "output_type": "execute_result"
    }
   ],
   "source": [
    "test_sum"
   ]
  },
  {
   "cell_type": "code",
   "execution_count": null,
   "id": "10ce96e0",
   "metadata": {},
   "outputs": [],
   "source": [
    "# Apply to Long Audio Files\n",
    "# Optionally filter to reduce compute time\n",
    "long_df = df[df[\"is_long\"]].copy()\n",
    "\n",
    "# Generate three types of summaries\n",
    "long_df[\"long_summary\"] = long_df[\"whisper_transcript\"].apply(lambda x: generate_bart_summary(x, min_len=100, max_len=300))\n",
    "long_df[\"short_summary\"] = long_df[\"whisper_transcript\"].apply(lambda x: generate_bart_summary(x, min_len=40, max_len=100))\n",
    "long_df[\"tiny_summary\"] = long_df[\"whisper_transcript\"].apply(generate_pegasus_summary)# "
   ]
  },
  {
   "cell_type": "code",
   "execution_count": null,
   "id": "b930d4dc",
   "metadata": {},
   "outputs": [],
   "source": []
  },
  {
   "cell_type": "code",
   "execution_count": null,
   "id": "c72ab630",
   "metadata": {},
   "outputs": [],
   "source": []
  }
 ],
 "metadata": {
  "kernelspec": {
   "display_name": "text_final",
   "language": "python",
   "name": "python3"
  },
  "language_info": {
   "codemirror_mode": {
    "name": "ipython",
    "version": 3
   },
   "file_extension": ".py",
   "mimetype": "text/x-python",
   "name": "python",
   "nbconvert_exporter": "python",
   "pygments_lexer": "ipython3",
   "version": "3.11.0"
  }
 },
 "nbformat": 4,
 "nbformat_minor": 5
}
