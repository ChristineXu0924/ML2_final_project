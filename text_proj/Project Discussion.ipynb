{
 "cells": [
  {
   "cell_type": "markdown",
   "id": "732eb44c",
   "metadata": {},
   "source": [
    "# Text Analytics Final Project\n",
    "## Northwestern University\n",
    "## Spring 2025\n",
    "\n",
    "For your final project in Text Analytics, you will be working in groups of 4-5 to dissect a dataset, build a model that predicts something within that dataset, and create an interactive tool to display your results. You will also create a 10 minute presentation displaying your findings, your interactive tool, and anything else to accompany your project. This presentation should be recorded before the start of Week 10. These presentations will be collected together and shown for class on Week 10.\n",
    "\n",
    "You will have the option to choose **one** of the following datasets for your project. The options will have unique and shared tasks that must be completed, any you may create additional components as you see fit. Each option has easier and more difficult parts to it, as labeled below.\n",
    "\n",
    "**Please write to Evan by the end of class on Week 6:**\n",
    "* The members of your group\n",
    "* Which task you will be working on\n",
    "\n",
    "If you cannot find a group to work with you, please let Evan know ASAP.\n",
    "\n",
    "**Your final submission will be three things:**\n",
    "* A Github repo with your code and results, with instructions on how to run the code\n",
    "* A powerpoint presentation detailing your project and findings\n",
    "* A video presenting your presentation and code"
   ]
  },
  {
   "cell_type": "markdown",
   "id": "0e1a10f5",
   "metadata": {},
   "source": [
    "## Option 3: Speech-to-Text Analysis\n",
    "\n",
    "* Data Processing: Hard\n",
    "* Modeling: Easy\n",
    "* Interactive: Medium\n",
    "\n",
    "[LibriSpeech](https://www.openslr.org/12/) is a corpus of approximately 1000 hours of 16kHz read English speech, prepared by Vassil Panayotov with the assistance of Daniel Povey. The data is derived from read audiobooks from the LibriVox project, and has been carefully segmented and aligned. \n",
    "\n",
    "The goal of this project is to be able to recognize audio files, translate them into text, and find meaning out of the text.\n",
    "\n",
    "You are tasked to do the following:\n",
    "\n",
    "* Gather numerous different audio files with different lengths. In your presentation, make a note of your sample distribution of audio files, i.e. average/median time, historgram, etc.\n",
    "* Transcribe the audio and combine all texts in a dataframe\n",
    "* Clean any data, if necessary.\n",
    "* Extract name entities from the text. You may train a custom NER model if you prefer.\n",
    "* Provide summaries for longer audio files in three ways:\n",
    "    - Long summary (multiple paragraphs)\n",
    "    - Short summary (one paragraph)\n",
    "    - Tiny summary (one sentence)\n",
    "* Build an interactive tool that takes an audio file, extracts name entities and provides full text and summaries of the file.\n",
    "* Add any other techniques taught from the course that could be applied for this project.\n",
    "* Present these findings in a 10 minute video with slides, sample code and a demonstration of your interactive tool.\n",
    "\n",
    "To help with this assignment, I suggest using [whisper](https://github.com/openai/whisper) from OpenAI or [Wave2Vec2](https://huggingface.co/docs/transformers/en/model_doc/wav2vec2) to translate the audio into text."
   ]
  }
 ],
 "metadata": {
  "kernelspec": {
   "display_name": "Python 3 (ipykernel)",
   "language": "python",
   "name": "python3"
  },
  "language_info": {
   "codemirror_mode": {
    "name": "ipython",
    "version": 3
   },
   "file_extension": ".py",
   "mimetype": "text/x-python",
   "name": "python",
   "nbconvert_exporter": "python",
   "pygments_lexer": "ipython3",
   "version": "3.9.13"
  }
 },
 "nbformat": 4,
 "nbformat_minor": 5
}
